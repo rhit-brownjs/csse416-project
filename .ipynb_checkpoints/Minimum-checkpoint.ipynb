{
 "cells": [
  {
   "cell_type": "code",
   "execution_count": 1,
   "id": "c190a896-5e37-46c0-ad48-a6049b5d34a6",
   "metadata": {},
   "outputs": [],
   "source": [
    "import pandas as pd\n",
    "import numpy as np\n",
    "from numpy.linalg import lstsq, solve\n",
    "import torch\n",
    "import torch.nn as nn\n",
    "import torch.optim as optim\n",
    "from torch.utils.data import Dataset\n",
    "from torch.utils.data import DataLoader"
   ]
  },
  {
   "cell_type": "code",
   "execution_count": 2,
   "id": "c1f260bc-f270-43ad-a051-b93c56e0ce45",
   "metadata": {},
   "outputs": [
    {
     "data": {
      "text/html": [
       "<div>\n",
       "<style scoped>\n",
       "    .dataframe tbody tr th:only-of-type {\n",
       "        vertical-align: middle;\n",
       "    }\n",
       "\n",
       "    .dataframe tbody tr th {\n",
       "        vertical-align: top;\n",
       "    }\n",
       "\n",
       "    .dataframe thead th {\n",
       "        text-align: right;\n",
       "    }\n",
       "</style>\n",
       "<table border=\"1\" class=\"dataframe\">\n",
       "  <thead>\n",
       "    <tr style=\"text-align: right;\">\n",
       "      <th></th>\n",
       "      <th>sqft</th>\n",
       "      <th>n_citi</th>\n",
       "      <th>bed</th>\n",
       "      <th>bath</th>\n",
       "      <th>price</th>\n",
       "    </tr>\n",
       "  </thead>\n",
       "  <tbody>\n",
       "    <tr>\n",
       "      <th>0</th>\n",
       "      <td>1560</td>\n",
       "      <td>317</td>\n",
       "      <td>3</td>\n",
       "      <td>2.0</td>\n",
       "      <td>201900</td>\n",
       "    </tr>\n",
       "    <tr>\n",
       "      <th>1</th>\n",
       "      <td>713</td>\n",
       "      <td>48</td>\n",
       "      <td>3</td>\n",
       "      <td>2.0</td>\n",
       "      <td>228500</td>\n",
       "    </tr>\n",
       "    <tr>\n",
       "      <th>2</th>\n",
       "      <td>800</td>\n",
       "      <td>152</td>\n",
       "      <td>3</td>\n",
       "      <td>1.0</td>\n",
       "      <td>273950</td>\n",
       "    </tr>\n",
       "    <tr>\n",
       "      <th>3</th>\n",
       "      <td>1082</td>\n",
       "      <td>48</td>\n",
       "      <td>3</td>\n",
       "      <td>1.0</td>\n",
       "      <td>350000</td>\n",
       "    </tr>\n",
       "    <tr>\n",
       "      <th>4</th>\n",
       "      <td>2547</td>\n",
       "      <td>55</td>\n",
       "      <td>4</td>\n",
       "      <td>3.0</td>\n",
       "      <td>385100</td>\n",
       "    </tr>\n",
       "  </tbody>\n",
       "</table>\n",
       "</div>"
      ],
      "text/plain": [
       "   sqft  n_citi  bed  bath   price\n",
       "0  1560     317    3   2.0  201900\n",
       "1   713      48    3   2.0  228500\n",
       "2   800     152    3   1.0  273950\n",
       "3  1082      48    3   1.0  350000\n",
       "4  2547      55    4   3.0  385100"
      ]
     },
     "execution_count": 2,
     "metadata": {},
     "output_type": "execute_result"
    }
   ],
   "source": [
    "file_path = 'data/socal.csv'\n",
    "df = pd.read_csv(file_path)\n",
    "\n",
    "# Select only the square footage and price columns\n",
    "df = df[['sqft', 'n_citi', 'bed','bath', 'price']]\n",
    "\n",
    "# Display the first few rows of the selected data\n",
    "df.head()"
   ]
  },
  {
   "cell_type": "code",
   "execution_count": 3,
   "id": "834f1a1b-a84c-4eeb-bd0a-fc81353fbd5d",
   "metadata": {},
   "outputs": [],
   "source": [
    "def MSE(y, yhat):\n",
    "    return np.mean((y - yhat) ** 2)\n",
    "\n",
    "def RMSE(y,yhat):\n",
    "    return np.sqrt(MSE(y,yhat))"
   ]
  },
  {
   "cell_type": "code",
   "execution_count": 4,
   "id": "bb659b56-39f8-440f-9d46-85d4beb0c939",
   "metadata": {},
   "outputs": [
    {
     "name": "stdout",
     "output_type": "stream",
     "text": [
      "Simple Bias Regressor Results\n",
      "MSE: 142101837143.94485\n",
      "RMSE: 376963.973270583\n"
     ]
    }
   ],
   "source": [
    "#SIMPLE BIAS REGRESSOR    \n",
    "y = df[\"price\"]    \n",
    "yhat = y.mean()\n",
    "\n",
    "print(f\"Simple Bias Regressor Results\")\n",
    "print(f\"MSE: {MSE(y, yhat)}\")\n",
    "print(f\"RMSE: {RMSE(y, yhat)}\")"
   ]
  },
  {
   "cell_type": "code",
   "execution_count": 5,
   "id": "d1a9736d-ab92-4304-beb5-15bb487c7328",
   "metadata": {},
   "outputs": [
    {
     "name": "stdout",
     "output_type": "stream",
     "text": [
      "Least Squares Results\n",
      "MSE: 92149117766.18396\n",
      "RMSE: 303560.7315944932\n"
     ]
    }
   ],
   "source": [
    "#Least Squares\n",
    "df['bias'] = 1\n",
    "X = df[['bias','sqft', 'bed','bath', 'n_citi']].values\n",
    "y = df.price.values\n",
    "w = lstsq(X,y,rcond=None)[0]\n",
    "yhat = np.matmul(X,w)\n",
    "mse = MSE(y,yhat)\n",
    "rmse = RMSE(y,yhat)\n",
    "\n",
    "print(f\"Least Squares Results\")\n",
    "print(f\"MSE: {MSE(y, yhat)}\")\n",
    "print(f\"RMSE: {RMSE(y, yhat)}\")"
   ]
  },
  {
   "cell_type": "code",
   "execution_count": 6,
   "id": "c5df56af-3ff5-4461-a82b-6b3019ac6a09",
   "metadata": {},
   "outputs": [
    {
     "name": "stdout",
     "output_type": "stream",
     "text": [
      "epoch 0 loss 627152900000.0\n",
      "epoch 480 loss 76056490000.0\n",
      "epoch 960 loss 78432920000.0\n",
      "epoch 1440 loss 99496890000.0\n",
      "epoch 1920 loss 172232750000.0\n"
     ]
    },
    {
     "data": {
      "text/plain": [
       "312227.65581936616"
      ]
     },
     "execution_count": 6,
     "metadata": {},
     "output_type": "execute_result"
    }
   ],
   "source": [
    "df = pd.read_csv(file_path)\n",
    "df = df[['sqft', 'n_citi', 'bed','bath', 'price']]\n",
    "\n",
    "# Create PyTorch dataset\n",
    "class CreateDataset(Dataset):\n",
    "    def __init__(self,features,targets):\n",
    "        self.features = torch.tensor(features,dtype=torch.float32)\n",
    "        self.targets  = torch.tensor(targets,dtype=torch.float32)\n",
    "    \n",
    "    def __len__(self):\n",
    "        return len(self.features)\n",
    "    \n",
    "    def __getitem__(self,idx):\n",
    "        return self.features[idx], self.targets[idx]\n",
    "    \n",
    "\n",
    "# Define the neural network model\n",
    "class NeuralNetRegressor(nn.Module):\n",
    "    def __init__(self, input_size=4, hidden_size=64, output_size=2):\n",
    "        super(NeuralNetRegressor, self).__init__()\n",
    "        \n",
    "        # Define the layers\n",
    "        self.fc1 = nn.Linear(input_size, hidden_size)  # Input layer -> Hidden layer\n",
    "        self.relu = nn.ReLU()                          # Activation function\n",
    "        self.fc2 = nn.Linear(hidden_size, output_size) # Hidden layer -> Output layer\n",
    "    \n",
    "    def forward(self, x):\n",
    "        x = self.fc1(x)    # Input to hidden\n",
    "        x = self.relu(x)   # ReLU activation\n",
    "        x = self.fc2(x)    # Hidden to output\n",
    "        return x\n",
    "\n",
    "features = df[['sqft', 'n_citi', 'bed', 'bath']].values\n",
    "targets = df.price\n",
    "\n",
    "# Create PyTorch dataset\n",
    "X = features\n",
    "Y = targets.to_numpy()\n",
    "dataset = CreateDataset(X,Y)\n",
    "data_loader = DataLoader(dataset,batch_size=200,shuffle=True)\n",
    "\n",
    "# Create the model instance\n",
    "model = NeuralNetRegressor(input_size=4,hidden_size=32,output_size=1)\n",
    "\n",
    "# Define the loss function and the optimizer\n",
    "cost_function = nn.MSELoss()  # Mean Squared Error Loss for regression\n",
    "optimizer = optim.Adam(model.parameters(), lr=0.0001)\n",
    "\n",
    "num_epochs = 2400\n",
    "# Example of how to train the model (assuming you have your data loaders)\n",
    "for epoch in range(num_epochs):\n",
    "    for X,Y in data_loader:\n",
    "        # Zero the gradients\n",
    "        optimizer.zero_grad()\n",
    "        \n",
    "        # Forward pass\n",
    "        Yh = model(X)\n",
    "        \n",
    "        # Compute the loss\n",
    "        loss = cost_function(Yh,torch.unsqueeze(Y,1))\n",
    "        \n",
    "        # Backward pass and optimization\n",
    "        loss.backward()\n",
    "        optimizer.step()\n",
    "        \n",
    "    if epoch % 480 == 0:\n",
    "        print('epoch',epoch,'loss',loss.detach().numpy())\n",
    "        \n",
    "# neural network RMSE\n",
    "X = torch.tensor(features,dtype=torch.float32)\n",
    "Yh = model(X)\n",
    "Yh = Yh.detach().numpy().flatten() #GPT4 suggested change to add flatten to match shapes\n",
    "Y = targets.to_numpy()\n",
    "RMSE(Y,Yh)"
   ]
  },
  {
   "cell_type": "code",
   "execution_count": 7,
   "id": "6a51f512-7113-423f-bd8b-cc01c4656b62",
   "metadata": {},
   "outputs": [],
   "source": [
    "#epoch 0 loss 627152900000.0\n",
    "#epoch 480 loss 76056490000.0\n",
    "#epoch 960 loss 78432920000.0\n",
    "#epoch 1440 loss 99496890000.0\n",
    "#epoch 1920 loss 172232750000.0\n",
    "#RMSE: 312227.65581936616"
   ]
  },
  {
   "cell_type": "code",
   "execution_count": null,
   "id": "d86dfc30-8ff8-4873-bf35-94bd39defee3",
   "metadata": {},
   "outputs": [],
   "source": []
  }
 ],
 "metadata": {
  "kernelspec": {
   "display_name": "Python 3 (ipykernel)",
   "language": "python",
   "name": "python3"
  },
  "language_info": {
   "codemirror_mode": {
    "name": "ipython",
    "version": 3
   },
   "file_extension": ".py",
   "mimetype": "text/x-python",
   "name": "python",
   "nbconvert_exporter": "python",
   "pygments_lexer": "ipython3",
   "version": "3.12.4"
  }
 },
 "nbformat": 4,
 "nbformat_minor": 5
}
